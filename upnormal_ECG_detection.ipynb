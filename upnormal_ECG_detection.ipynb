{
  "cells": [
    {
      "cell_type": "code",
      "execution_count": null,
      "metadata": {
        "colab": {
          "base_uri": "https://localhost:8080/"
        },
        "id": "MjEQDYMH1D-D",
        "outputId": "6e578c90-a9c5-479b-e74d-abea9c132014"
      },
      "outputs": [
        {
          "output_type": "stream",
          "name": "stdout",
          "text": [
            "Mounted at /content/drive\n"
          ]
        }
      ],
      "source": [
        "from google.colab import drive\n",
        "drive.mount('/content/drive')"
      ],
      "id": "MjEQDYMH1D-D"
    },
    {
      "cell_type": "markdown",
      "metadata": {
        "id": "d54efcd0"
      },
      "source": [
        "# Import Dataset\n",
        "\n",
        "dataset berupa data sinyal ekg yang terdiri dari subyek normal dan upnormal"
      ],
      "id": "d54efcd0"
    },
    {
      "cell_type": "code",
      "execution_count": null,
      "metadata": {
        "colab": {
          "base_uri": "https://localhost:8080/"
        },
        "id": "-JTrvVe9mqVl",
        "outputId": "f3b9f6a8-3a4f-42b6-d23f-0b602ca6fd9c"
      },
      "outputs": [
        {
          "output_type": "execute_result",
          "data": {
            "text/plain": [
              "<bound method NDFrame.head of        9.78E-01  9.26E-01  6.81E-01  ...  0.00E+00.86  0.00E+00.87   normal\n",
              "0         0.960     0.863     0.462  ...          0.0          0.0   normal\n",
              "1         1.000     0.659     0.186  ...          0.0          0.0   normal\n",
              "2         0.925     0.666     0.541  ...          0.0          0.0   normal\n",
              "3         0.967     1.000     0.831  ...          0.0          0.0   normal\n",
              "4         0.927     1.000     0.627  ...          0.0          0.0   normal\n",
              "...         ...       ...       ...  ...          ...          ...      ...\n",
              "87548     0.807     0.495     0.537  ...          0.0          0.0  unknown\n",
              "87549     0.718     0.605     0.487  ...          0.0          0.0  unknown\n",
              "87550     0.906     0.624     0.596  ...          0.0          0.0  unknown\n",
              "87551     0.858     0.646     0.846  ...          0.0          0.0  unknown\n",
              "87552     0.902     0.846     0.801  ...          0.0          0.0  unknown\n",
              "\n",
              "[87553 rows x 188 columns]>"
            ]
          },
          "metadata": {},
          "execution_count": 2
        }
      ],
      "source": [
        "import pandas as pd\n",
        "\n",
        "dataset = pd.read_csv('drive/MyDrive/Mecnit/EKG.csv')\n",
        "dataset.head"
      ],
      "id": "-JTrvVe9mqVl"
    },
    {
      "cell_type": "code",
      "execution_count": null,
      "metadata": {
        "id": "9a324165"
      },
      "outputs": [],
      "source": [
        "import pandas as pd\n",
        "from sklearn.neighbors import KNeighborsClassifier\n",
        "from sklearn.model_selection import train_test_split\n",
        "from sklearn.preprocessing import StandardScaler\n",
        "import numpy as np\n",
        "import matplotlib.pyplot as plt\n",
        "from xgboost.sklearn import XGBClassifier"
      ],
      "id": "9a324165"
    },
    {
      "cell_type": "code",
      "execution_count": null,
      "metadata": {
        "colab": {
          "base_uri": "https://localhost:8080/"
        },
        "id": "jw80rDT_2PK-",
        "outputId": "5753e146-4879-4760-92a8-882a0c0b715c"
      },
      "outputs": [
        {
          "output_type": "stream",
          "name": "stdout",
          "text": [
            "      t1     t2     t3     t4     t5  ...  t184  t185  t186  t187   class\n",
            "0  0.978  0.926  0.681  0.245  0.154  ...   0.0   0.0   0.0   0.0  normal\n",
            "1  0.960  0.863  0.462  0.197  0.094  ...   0.0   0.0   0.0   0.0  normal\n",
            "\n",
            "[2 rows x 188 columns]\n",
            "<class 'pandas.core.frame.DataFrame'>\n",
            "RangeIndex: 87554 entries, 0 to 87553\n",
            "Columns: 188 entries, t1 to class\n",
            "dtypes: float64(187), object(1)\n",
            "memory usage: 125.6+ MB\n",
            "None\n",
            "                 t1            t2  ...          t186          t187\n",
            "count  87554.000000  87554.000000  ...  87554.000000  87554.000000\n",
            "mean       0.890360      0.758161  ...      0.002944      0.002807\n",
            "std        0.240908      0.221812  ...      0.032865      0.031923\n",
            "min        0.000000      0.000000  ...      0.000000      0.000000\n",
            "25%        0.922000      0.682250  ...      0.000000      0.000000\n",
            "50%        0.991000      0.826000  ...      0.000000      0.000000\n",
            "75%        1.000000      0.911000  ...      0.000000      0.000000\n",
            "max        1.000000      1.000000  ...      1.000000      1.000000\n",
            "\n",
            "[8 rows x 187 columns]\n"
          ]
        }
      ],
      "source": [
        "df = pd.read_csv(\"drive/MyDrive/Mecnit/EKG.csv\",header=None)\n",
        "names = ['t1','t2','t3','t4','t5','t6','t7','t8','t9','t10','t11','t12','t13','t14','t15','t16','t17','t18','t19','t20','t21','t22','t23','t24','t25','t26','t27','t28','t29','t30','t31','t32','t33','t34','t35','t36','t37','t38','t39','t40','t41','t42','t43','t44','t45','t46','t47','t48','t49','t50','t51','t52','t53','t54','t55','t56','t57','t58','t59','t60','t61','t62','t63','t64','t65','t66','t67','t68','t69','t70','t71','t72','t73','t74','t75','t76','t77','t78','t79','t80','t81','t82','t83','t84','t85','t86','t87','t88','t89','t90','t91','t92','t93','t94','t95','t96','t97','t98','t99','t100','t101','t102','t103','t104','t105','t106','t107','t108','t109','t110','t111','t112','t113','t114','t115','t116','t117','t118','t119','t120','t121','t122','t123','t124','t125','t126','t127','t128','t129','t130','t131','t132','t133','t134','t135','t136','t137','t138','t139','t140','t141','t142','t143','t144','t145','t146','t147','t148','t149','t150','t151','t152','t153','t154','t155','t156','t157','t158','t159','t160','t161','t162','t163','t164','t165','t166','t167','t168','t169','t170','t171','t172','t173','t174','t175','t176','t177','t178','t179','t180','t181','t182','t183','t184','t185','t186','t187'\n",
        ", 'class']\n",
        "df.columns = names\n",
        "print(df.head(2))\n",
        "print(df.info())\n",
        "print(df.describe())"
      ],
      "id": "jw80rDT_2PK-"
    },
    {
      "cell_type": "markdown",
      "metadata": {
        "id": "TPV7w7O_Q7LS"
      },
      "source": [
        "coding untuk mengecek data yang kosong."
      ],
      "id": "TPV7w7O_Q7LS"
    },
    {
      "cell_type": "code",
      "execution_count": null,
      "metadata": {
        "colab": {
          "base_uri": "https://localhost:8080/"
        },
        "id": "f8889e2f",
        "outputId": "117429d3-2179-4fa7-c290-601f42efd62e",
        "scrolled": true
      },
      "outputs": [
        {
          "output_type": "execute_result",
          "data": {
            "text/plain": [
              "t1       0\n",
              "t2       0\n",
              "t3       0\n",
              "t4       0\n",
              "t5       0\n",
              "        ..\n",
              "t184     0\n",
              "t185     0\n",
              "t186     0\n",
              "t187     0\n",
              "class    0\n",
              "Length: 188, dtype: int64"
            ]
          },
          "metadata": {},
          "execution_count": 5
        }
      ],
      "source": [
        "df.isnull().sum()"
      ],
      "id": "f8889e2f"
    },
    {
      "cell_type": "code",
      "execution_count": null,
      "metadata": {
        "id": "1bc64ec8"
      },
      "outputs": [],
      "source": [
        "def label_encode(df):\n",
        "    df_labelled = df.copy()\n",
        "    # Dictionary to input the different numbers for different classes\n",
        "    label_encode = {\"class\": {\"normal\":0, \"supraventricular ectopic\":1, \"ventricular ectopic\":2, \"fusion\":3, \"unknown\":4}}\n",
        "\n",
        "    # Use .replace to change the different classes into numbers\n",
        "    df_labelled.replace(label_encode,inplace=True)\n",
        "    return df_labelled"
      ],
      "id": "1bc64ec8"
    },
    {
      "cell_type": "code",
      "execution_count": null,
      "metadata": {
        "id": "4c451f51"
      },
      "outputs": [],
      "source": [
        "x_values = df[['t1','t2','t3','t4','t5','t6','t7','t8','t9','t10','t11','t12','t13','t14','t15','t16','t17','t18','t19','t20','t21','t22','t23','t24','t25','t26','t27','t28','t29','t30','t31','t32','t33','t34','t35','t36','t37','t38','t39','t40','t41','t42','t43','t44','t45','t46','t47','t48','t49','t50','t51','t52','t53','t54','t55','t56','t57','t58','t59','t60','t61','t62','t63','t64','t65','t66','t67','t68','t69','t70','t71','t72','t73','t74','t75','t76','t77','t78','t79','t80','t81','t82','t83','t84','t85','t86','t87','t88','t89','t90','t91','t92','t93','t94','t95','t96','t97','t98','t99','t100','t101','t102','t103','t104','t105','t106','t107','t108','t109','t110','t111','t112','t113','t114','t115','t116','t117','t118','t119','t120','t121','t122','t123','t124','t125','t126','t127','t128','t129','t130','t131','t132','t133','t134','t135','t136','t137','t138','t139','t140','t141','t142','t143','t144','t145','t146','t147','t148','t149','t150','t151','t152','t153','t154','t155','t156','t157','t158','t159','t160','t161','t162','t163','t164','t165','t166','t167','t168','t169','t170','t171','t172','t173','t174','t175','t176','t177','t178','t179','t180','t181','t182','t183','t184','t185','t186','t187'\n",
        "]]\n",
        "y_values = df['class']"
      ],
      "id": "4c451f51"
    },
    {
      "cell_type": "code",
      "execution_count": null,
      "metadata": {
        "colab": {
          "base_uri": "https://localhost:8080/",
          "height": 283
        },
        "id": "a1aba671",
        "outputId": "bd975e5e-eb4f-4d5e-e107-3d9cffd2d38b",
        "scrolled": true
      },
      "outputs": [
        {
          "output_type": "execute_result",
          "data": {
            "text/plain": [
              "[<matplotlib.lines.Line2D at 0x7f82b638fb50>]"
            ]
          },
          "metadata": {},
          "execution_count": 8
        },
        {
          "output_type": "display_data",
          "data": {
            "image/png": "[encoded data removed]",
            "text/plain": [
              "<Figure size 432x288 with 1 Axes>"
            ]
          },
          "metadata": {
            "needs_background": "light"
          }
        }
      ],
      "source": [
        "plt.plot(df.iloc[0,:186])\n",
        "#normal"
      ],
      "id": "a1aba671"
    },
    {
      "cell_type": "code",
      "execution_count": null,
      "metadata": {
        "colab": {
          "base_uri": "https://localhost:8080/",
          "height": 283
        },
        "id": "584fac0a",
        "outputId": "29ea0939-8b40-41f3-bc06-06f4cda7f2f6"
      },
      "outputs": [
        {
          "output_type": "execute_result",
          "data": {
            "text/plain": [
              "[<matplotlib.lines.Line2D at 0x7f1d98f44510>]"
            ]
          },
          "metadata": {},
          "execution_count": 8
        },
        {
          "output_type": "display_data",
          "data": {
            "image/png": "[encoded data removed]",
            "text/plain": [
              "<Figure size 432x288 with 1 Axes>"
            ]
          },
          "metadata": {
            "needs_background": "light"
          }
        }
      ],
      "source": [
        "plt.plot(df.iloc[72472,:186]) \n",
        "#supraventricular ectopic"
      ],
      "id": "584fac0a"
    },
    {
      "cell_type": "code",
      "execution_count": null,
      "metadata": {
        "colab": {
          "base_uri": "https://localhost:8080/",
          "height": 283
        },
        "id": "3c309361",
        "outputId": "8038d80d-b550-4d45-eb34-c080d05411fa"
      },
      "outputs": [
        {
          "output_type": "execute_result",
          "data": {
            "text/plain": [
              "[<matplotlib.lines.Line2D at 0x7f1d9884b690>]"
            ]
          },
          "metadata": {},
          "execution_count": 9
        },
        {
          "output_type": "display_data",
          "data": {
            "image/png": "[encoded data removed]",
            "text/plain": [
              "<Figure size 432x288 with 1 Axes>"
            ]
          },
          "metadata": {
            "needs_background": "light"
          }
        }
      ],
      "source": [
        "plt.plot(df.iloc[74695,:186]) \n",
        "#ventricular ectopic"
      ],
      "id": "3c309361"
    },
    {
      "cell_type": "code",
      "execution_count": null,
      "metadata": {
        "colab": {
          "base_uri": "https://localhost:8080/",
          "height": 283
        },
        "id": "3ca27243",
        "outputId": "194f12c7-d34e-4f0c-f745-51fd76eefd35"
      },
      "outputs": [
        {
          "output_type": "execute_result",
          "data": {
            "text/plain": [
              "[<matplotlib.lines.Line2D at 0x7f1d98689590>]"
            ]
          },
          "metadata": {},
          "execution_count": 10
        },
        {
          "output_type": "display_data",
          "data": {
            "image/png": "[encoded data removed]",
            "text/plain": [
              "<Figure size 432x288 with 1 Axes>"
            ]
          },
          "metadata": {
            "needs_background": "light"
          }
        }
      ],
      "source": [
        "plt.plot(df.iloc[80483,:186])\n",
        "#fusion"
      ],
      "id": "3ca27243"
    },
    {
      "cell_type": "code",
      "execution_count": null,
      "metadata": {
        "colab": {
          "base_uri": "https://localhost:8080/",
          "height": 283
        },
        "id": "437d9194",
        "outputId": "9035eab7-4733-4d0b-a7a3-8d408835ae37"
      },
      "outputs": [
        {
          "output_type": "execute_result",
          "data": {
            "text/plain": [
              "[<matplotlib.lines.Line2D at 0x7f1d98407a10>]"
            ]
          },
          "metadata": {},
          "execution_count": 11
        },
        {
          "output_type": "display_data",
          "data": {
            "image/png": "[encoded data removed]",
            "text/plain": [
              "<Figure size 432x288 with 1 Axes>"
            ]
          },
          "metadata": {
            "needs_background": "light"
          }
        }
      ],
      "source": [
        "plt.plot(df.iloc[81124,:186]) #unknown"
      ],
      "id": "437d9194"
    },
    {
      "cell_type": "markdown",
      "metadata": {
        "id": "Ys3ScIKVoG-Y"
      },
      "source": [
        "Train and Test XGboost"
      ],
      "id": "Ys3ScIKVoG-Y"
    },
    {
      "cell_type": "code",
      "execution_count": null,
      "metadata": {
        "id": "0RLv1jGOoGBN"
      },
      "outputs": [],
      "source": [
        "x_train, x_test, y_train, y_testXgBoost = train_test_split(x_values,y_values,test_size=0.3,random_state=10)\n",
        "scaler = StandardScaler()\n",
        "x_train_scale = scaler.fit_transform(x_train)\n",
        "x_test_scale = scaler.transform(x_test)"
      ],
      "id": "0RLv1jGOoGBN"
    },
    {
      "cell_type": "code",
      "execution_count": null,
      "metadata": {
        "colab": {
          "base_uri": "https://localhost:8080/"
        },
        "id": "WGB0j0tHopgx",
        "outputId": "a7dbe0f4-cfed-44fc-d84d-60e3e8afa1a5"
      },
      "outputs": [
        {
          "output_type": "execute_result",
          "data": {
            "text/plain": [
              "XGBClassifier(learning_rate=0.3, n_estimator=100, objective='multi:softprob',\n",
              "              subsample=1.0)"
            ]
          },
          "metadata": {},
          "execution_count": 13
        }
      ],
      "source": [
        "#Train a XgBoost algorithm with the dataset.\n",
        "\n",
        "gb_clf = XGBClassifier(learning_rate=0.3, n_estimator=100, subsample=1.0)\n",
        "gb_clf.fit(x_train, y_train)"
      ],
      "id": "WGB0j0tHopgx"
    },
    {
      "cell_type": "code",
      "execution_count": null,
      "metadata": {
        "id": "vrAWB2aHqbTw"
      },
      "outputs": [],
      "source": [
        "y_pred = gb_clf.predict(x_test)"
      ],
      "id": "vrAWB2aHqbTw"
    },
    {
      "cell_type": "code",
      "execution_count": null,
      "metadata": {
        "colab": {
          "base_uri": "https://localhost:8080/"
        },
        "id": "DQJKvlMSoppQ",
        "outputId": "fb55367d-27bc-470e-9fa7-1781f434068a"
      },
      "outputs": [
        {
          "output_type": "stream",
          "name": "stdout",
          "text": [
            "[[  128    47     0     0    12]\n",
            " [    1 21691    31    12    53]\n",
            " [    0   225   420     3     8]\n",
            " [    0    93     1  1786    12]\n",
            " [   10   211     3    13  1507]]\n",
            "25532\n",
            "26267\n",
            "97.20181215974416\n"
          ]
        }
      ],
      "source": [
        "from sklearn.metrics import confusion_matrix  \n",
        "matrix = (confusion_matrix(y_testXgBoost, y_pred))  \n",
        "print(matrix)\n",
        "benar = (matrix[0,0]+matrix[1,1]+matrix[2,2]+matrix[3,3]+matrix[4,4])\n",
        "Total = (matrix[0,0]+matrix[0,1]+matrix[0,2]+matrix[0,3]+matrix[0,4]\n",
        "         +matrix[1,0]+matrix[1,1]+matrix[1,2]+matrix[1,3]+matrix[1,4]\n",
        "         +matrix[2,0]+matrix[2,1]+matrix[2,2]+matrix[2,3]+matrix[2,4]\n",
        "         +matrix[3,0]+matrix[3,1]+matrix[3,2]+matrix[3,3]+matrix[3,4]\n",
        "         +matrix[4,0]+matrix[4,1]+matrix[4,2]+matrix[4,3]+matrix[4,4])\n",
        "print(benar)\n",
        "print(Total)\n",
        "\n",
        "\n",
        "akurasi = ((matrix[0,0]+matrix[1,1]+matrix[2,2]+matrix[3,3]+matrix[4,4])/\n",
        "           (matrix[0,0]+matrix[0,1]+matrix[0,2]+matrix[0,3]+matrix[0,4]+matrix[1,0]\n",
        "            +matrix[1,1]+matrix[1,2]+matrix[1,3]+matrix[1,4]+matrix[2,0]+matrix[2,1]\n",
        "            +matrix[2,2]+matrix[2,3]+matrix[2,4]+matrix[3,0]+matrix[3,1]+matrix[3,2]\n",
        "            +matrix[3,3]+matrix[3,4]+matrix[4,0]+matrix[4,1]+matrix[4,2]+matrix[4,3]\n",
        "            +matrix[4,4])*100)\n",
        "print(akurasi)"
      ],
      "id": "DQJKvlMSoppQ"
    },
    {
      "cell_type": "markdown",
      "metadata": {
        "id": "Gy3Hr5pEt7PN"
      },
      "source": [
        "Predict XgBoost"
      ],
      "id": "Gy3Hr5pEt7PN"
    },
    {
      "cell_type": "code",
      "execution_count": null,
      "metadata": {
        "colab": {
          "base_uri": "https://localhost:8080/"
        },
        "id": "M3e9mxuFt6oa",
        "outputId": "0812c12f-8aa7-4a29-ee77-9462f3ab131c"
      },
      "outputs": [
        {
          "output_type": "stream",
          "name": "stdout",
          "text": [
            "['normal']\n"
          ]
        }
      ],
      "source": [
        "normalpredict = pd.read_csv(\"drive/MyDrive/Mecnit/predict normal2.csv\")\n",
        "Xgboost = XGBClassifier()\n",
        "\n",
        "# Extract out the x values and y values. x will be sepal_length and y will be classes\n",
        "x = df[['t1','t2','t3','t4','t5','t6','t7','t8','t9','t10','t11','t12','t13',\n",
        "        't14','t15','t16','t17','t18','t19','t20','t21','t22','t23','t24','t25',\n",
        "        't26','t27','t28','t29','t30','t31','t32','t33','t34','t35','t36','t37',\n",
        "        't38','t39','t40','t41','t42','t43','t44','t45','t46','t47','t48','t49',\n",
        "        't50','t51','t52','t53','t54','t55','t56','t57','t58','t59','t60','t61',\n",
        "        't62','t63','t64','t65','t66','t67','t68','t69','t70','t71','t72','t73',\n",
        "        't74','t75','t76','t77','t78','t79','t80','t81','t82','t83','t84','t85',\n",
        "        't86','t87','t88','t89','t90','t91','t92','t93','t94','t95','t96','t97',\n",
        "        't98','t99','t100','t101','t102','t103','t104','t105','t106','t107','t108',\n",
        "        't109','t110','t111','t112','t113','t114','t115','t116','t117','t118','t119',\n",
        "        't120','t121','t122','t123','t124','t125','t126','t127','t128','t129','t130',\n",
        "        't131','t132','t133','t134','t135','t136','t137','t138','t139','t140','t141',\n",
        "        't142','t143','t144','t145','t146','t147','t148','t149','t150','t151','t152',\n",
        "        't153','t154','t155','t156','t157','t158','t159','t160','t161','t162','t163',\n",
        "        't164','t165','t166','t167','t168','t169','t170','t171','t172','t173','t174',\n",
        "        't175','t176','t177','t178','t179','t180','t181','t182','t183','t184','t185','t186','t187'\n",
        "]]\n",
        "y = df['class']\n",
        "\n",
        "Xgboost = Xgboost.fit(x,y)\n",
        "\n",
        "test = normalpredict\n",
        "predictXGB = Xgboost.predict(test)\n",
        "\n",
        "print(predictXGB)"
      ],
      "id": "M3e9mxuFt6oa"
    },
    {
      "cell_type": "code",
      "execution_count": null,
      "metadata": {
        "colab": {
          "base_uri": "https://localhost:8080/"
        },
        "id": "08hp-oUnzxWc",
        "outputId": "0b88ca4d-afba-4b73-db37-9dc1dc841244"
      },
      "outputs": [
        {
          "output_type": "stream",
          "name": "stdout",
          "text": [
            "['normal']\n"
          ]
        }
      ],
      "source": [
        "SEpredict = pd.read_csv(\"drive/MyDrive/Mecnit/predict supraventricular ectopic2.csv\")\n",
        "\n",
        "Xgboost = XGBClassifier()\n",
        "\n",
        "# Extract out the x values and y values. x will be sepal_length and y will be classes\n",
        "x2 = df[['t1','t2','t3','t4','t5','t6','t7','t8','t9','t10','t11','t12','t13','t14',\n",
        "         't15','t16','t17','t18','t19','t20','t21','t22','t23','t24','t25','t26','t27',\n",
        "         't28','t29','t30','t31','t32','t33','t34','t35','t36','t37','t38','t39','t40',\n",
        "         't41','t42','t43','t44','t45','t46','t47','t48','t49','t50','t51','t52','t53',\n",
        "         't54','t55','t56','t57','t58','t59','t60','t61','t62','t63','t64','t65','t66',\n",
        "         't67','t68','t69','t70','t71','t72','t73','t74','t75','t76','t77','t78','t79',\n",
        "         't80','t81','t82','t83','t84','t85','t86','t87','t88','t89','t90','t91','t92',\n",
        "         't93','t94','t95','t96','t97','t98','t99','t100','t101','t102','t103','t104',\n",
        "         't105','t106','t107','t108','t109','t110','t111','t112','t113','t114','t115',\n",
        "         't116','t117','t118','t119','t120','t121','t122','t123','t124','t125','t126',\n",
        "         't127','t128','t129','t130','t131','t132','t133','t134','t135','t136','t137',\n",
        "         't138','t139','t140','t141','t142','t143','t144','t145','t146','t147','t148',\n",
        "         't149','t150','t151','t152','t153','t154','t155','t156','t157','t158','t159',\n",
        "         't160','t161','t162','t163','t164','t165','t166','t167','t168','t169','t170',\n",
        "         't171','t172','t173','t174','t175','t176','t177','t178','t179','t180','t181',\n",
        "         't182','t183','t184','t185','t186','t187'\n",
        "]]\n",
        "y2 = df['class']\n",
        "\n",
        "# Train KNN using the x and y values. This is done through the .fit method.\n",
        "Xgboost = Xgboost.fit(x2,y2)\n",
        "\n",
        "test = SEpredict\n",
        "predictXGBSE = Xgboost.predict(test)\n",
        "\n",
        "print(predictXGBSE)\n"
      ],
      "id": "08hp-oUnzxWc"
    },
    {
      "cell_type": "code",
      "execution_count": null,
      "metadata": {
        "colab": {
          "base_uri": "https://localhost:8080/"
        },
        "id": "2BeR6WEz9qoV",
        "outputId": "cea512bc-1989-49f6-ed7a-634a89144de8"
      },
      "outputs": [
        {
          "output_type": "stream",
          "name": "stdout",
          "text": [
            "['fusion']\n"
          ]
        }
      ],
      "source": [
        "VEpredict = pd.read_csv(\"drive/MyDrive/Mecnit/predict ventricular ectopic2.csv\")\n",
        "\n",
        "Xgboost = XGBClassifier()\n",
        "\n",
        "# Extract out the x values and y values. x will be sepal_length and y will be classes\n",
        "x3 = df[['t1','t2','t3','t4','t5','t6','t7','t8','t9','t10','t11','t12','t13','t14',\n",
        "        't15','t16','t17','t18','t19','t20','t21','t22','t23','t24','t25','t26','t27',\n",
        "        't28','t29','t30','t31','t32','t33','t34','t35','t36','t37','t38','t39','t40',\n",
        "        't41','t42','t43','t44','t45','t46','t47','t48','t49','t50','t51','t52','t53',\n",
        "        't54','t55','t56','t57','t58','t59','t60','t61','t62','t63','t64','t65','t66',\n",
        "        't67','t68','t69','t70','t71','t72','t73','t74','t75','t76','t77','t78','t79',\n",
        "        't80','t81','t82','t83','t84','t85','t86','t87','t88','t89','t90','t91','t92',\n",
        "        't93','t94','t95','t96','t97','t98','t99','t100','t101','t102','t103','t104',\n",
        "        't105','t106','t107','t108','t109','t110','t111','t112','t113','t114','t115',\n",
        "        't116','t117','t118','t119','t120','t121','t122','t123','t124','t125','t126',\n",
        "        't127','t128','t129','t130','t131','t132','t133','t134','t135','t136','t137',\n",
        "        't138','t139','t140','t141','t142','t143','t144','t145','t146','t147','t148',\n",
        "        't149','t150','t151','t152','t153','t154','t155','t156','t157','t158','t159',\n",
        "        't160','t161','t162','t163','t164','t165','t166','t167','t168','t169','t170',\n",
        "        't171','t172','t173','t174','t175','t176','t177','t178','t179','t180','t181',\n",
        "        't182','t183','t184','t185','t186','t187'\n",
        "]]\n",
        "y3 = df['class']\n",
        "\n",
        "# Train KNN using the x and y values. This is done through the .fit method.\n",
        "Xgboost = Xgboost.fit(x3,y3)\n",
        "\n",
        "test = VEpredict\n",
        "predictXGBVE = Xgboost.predict(test)\n",
        "\n",
        "print(predictXGBVE)"
      ],
      "id": "2BeR6WEz9qoV"
    },
    {
      "cell_type": "code",
      "execution_count": null,
      "metadata": {
        "colab": {
          "base_uri": "https://localhost:8080/"
        },
        "id": "QoCG3QUkAaeh",
        "outputId": "5ed3f5ca-fd1b-47ed-91ce-5a99907c7ce3"
      },
      "outputs": [
        {
          "output_type": "stream",
          "name": "stdout",
          "text": [
            "['fusion']\n"
          ]
        }
      ],
      "source": [
        "fusionpredict = pd.read_csv(\"drive/MyDrive/Mecnit/predict fusion2.csv\")\n",
        "\n",
        "Xgboost = XGBClassifier()\n",
        "\n",
        "# Extract out the x values and y values. x will be sepal_length and y will be classes\n",
        "x4 = df[['t1','t2','t3','t4','t5','t6','t7','t8','t9','t10','t11','t12','t13','t14',\n",
        "        't15','t16','t17','t18','t19','t20','t21','t22','t23','t24','t25','t26','t27',\n",
        "        't28','t29','t30','t31','t32','t33','t34','t35','t36','t37','t38','t39','t40',\n",
        "        't41','t42','t43','t44','t45','t46','t47','t48','t49','t50','t51','t52','t53',\n",
        "        't54','t55','t56','t57','t58','t59','t60','t61','t62','t63','t64','t65','t66',\n",
        "        't67','t68','t69','t70','t71','t72','t73','t74','t75','t76','t77','t78','t79',\n",
        "        't80','t81','t82','t83','t84','t85','t86','t87','t88','t89','t90','t91','t92',\n",
        "        't93','t94','t95','t96','t97','t98','t99','t100','t101','t102','t103','t104',\n",
        "        't105','t106','t107','t108','t109','t110','t111','t112','t113','t114','t115',\n",
        "        't116','t117','t118','t119','t120','t121','t122','t123','t124','t125','t126',\n",
        "        't127','t128','t129','t130','t131','t132','t133','t134','t135','t136','t137',\n",
        "        't138','t139','t140','t141','t142','t143','t144','t145','t146','t147','t148',\n",
        "        't149','t150','t151','t152','t153','t154','t155','t156','t157','t158','t159',\n",
        "        't160','t161','t162','t163','t164','t165','t166','t167','t168','t169','t170',\n",
        "        't171','t172','t173','t174','t175','t176','t177','t178','t179','t180','t181',\n",
        "        't182','t183','t184','t185','t186','t187'\n",
        "]]\n",
        "y4 = df['class']\n",
        "\n",
        "\n",
        "Xgboost = Xgboost.fit(x4,y4)\n",
        "\n",
        "test = fusionpredict\n",
        "predictXGBF = Xgboost.predict(test)\n",
        "\n",
        "print(predictXGBF)"
      ],
      "id": "QoCG3QUkAaeh"
    },
    {
      "cell_type": "markdown",
      "metadata": {
        "id": "385dbb7b"
      },
      "source": [
        "# Train and test (KNN)"
      ],
      "id": "385dbb7b"
    },
    {
      "cell_type": "code",
      "execution_count": null,
      "metadata": {
        "id": "a9762f43"
      },
      "outputs": [],
      "source": [
        "x_train, x_test, y_train, y_testKNN = train_test_split(x_values,y_values,test_size=0.3,random_state=10)\n",
        "scaler = StandardScaler()\n",
        "x_train_scale = scaler.fit_transform(x_train)\n",
        "x_test_scale = scaler.transform(x_test)"
      ],
      "id": "a9762f43"
    },
    {
      "cell_type": "code",
      "execution_count": null,
      "metadata": {
        "id": "d3a55642"
      },
      "outputs": [],
      "source": [
        "#Train a K-Nearest Neighbours algorithm with the dataset.\n",
        "\n",
        "KNN = KNeighborsClassifier(n_neighbors=3) \n",
        "KNN = KNN.fit(x_train_scale,y_train)\n"
      ],
      "id": "d3a55642"
    },
    {
      "cell_type": "code",
      "execution_count": null,
      "metadata": {
        "id": "1580f59c"
      },
      "outputs": [],
      "source": [
        "y_predictKNN = KNN.predict(x_test_scale)"
      ],
      "id": "1580f59c"
    },
    {
      "cell_type": "markdown",
      "metadata": {
        "id": "ad07592a"
      },
      "source": [
        "# Confusion matrix (K-NN)"
      ],
      "id": "ad07592a"
    },
    {
      "cell_type": "code",
      "execution_count": null,
      "metadata": {
        "colab": {
          "base_uri": "https://localhost:8080/"
        },
        "id": "8c03e25d",
        "outputId": "2a1cc909-3304-486a-c91d-ce89a49e7535"
      },
      "outputs": [
        {
          "name": "stdout",
          "output_type": "stream",
          "text": [
            "[[  129    38     0     0    20]\n",
            " [   15 21617    57    14    85]\n",
            " [    1   190   456     0     9]\n",
            " [    0    55     0  1828     9]\n",
            " [   16   162    13     6  1547]]\n",
            "25577\n",
            "26267\n",
            "97.37312978261697\n"
          ]
        }
      ],
      "source": [
        "from sklearn.metrics import confusion_matrix  \n",
        "matrix = (confusion_matrix(y_testKNN, y_predictKNN))  \n",
        "print(matrix)\n",
        "benar = (matrix[0,0]+matrix[1,1]+matrix[2,2]+matrix[3,3]+matrix[4,4])\n",
        "Total = (matrix[0,0]+matrix[0,1]+matrix[0,2]+matrix[0,3]+matrix[0,4]\n",
        "         +matrix[1,0]+matrix[1,1]+matrix[1,2]+matrix[1,3]+matrix[1,4]\n",
        "         +matrix[2,0]+matrix[2,1]+matrix[2,2]+matrix[2,3]+matrix[2,4]\n",
        "         +matrix[3,0]+matrix[3,1]+matrix[3,2]+matrix[3,3]+matrix[3,4]\n",
        "         +matrix[4,0]+matrix[4,1]+matrix[4,2]+matrix[4,3]+matrix[4,4])\n",
        "print(benar)\n",
        "print(Total)\n",
        "\n",
        "\n",
        "akurasi = ((matrix[0,0]+matrix[1,1]+matrix[2,2]+matrix[3,3]+matrix[4,4])/\n",
        "           (matrix[0,0]+matrix[0,1]+matrix[0,2]+matrix[0,3]+matrix[0,4]+matrix[1,0]\n",
        "            +matrix[1,1]+matrix[1,2]+matrix[1,3]+matrix[1,4]+matrix[2,0]+matrix[2,1]\n",
        "            +matrix[2,2]+matrix[2,3]+matrix[2,4]+matrix[3,0]+matrix[3,1]+matrix[3,2]\n",
        "            +matrix[3,3]+matrix[3,4]+matrix[4,0]+matrix[4,1]+matrix[4,2]+matrix[4,3]\n",
        "            +matrix[4,4])*100)\n",
        "print(akurasi)"
      ],
      "id": "8c03e25d"
    },
    {
      "cell_type": "markdown",
      "metadata": {
        "id": "860f9f62"
      },
      "source": [
        "# Akurasi"
      ],
      "id": "860f9f62"
    },
    {
      "cell_type": "code",
      "execution_count": null,
      "metadata": {
        "colab": {
          "base_uri": "https://localhost:8080/"
        },
        "id": "1f3bbb16",
        "outputId": "dbd32b87-c665-4608-bafa-58868bf97f4d"
      },
      "outputs": [
        {
          "name": "stdout",
          "output_type": "stream",
          "text": [
            "97.37312978261697\n"
          ]
        }
      ],
      "source": [
        "akurasi = ((matrix[0,0]+matrix[1,1]+matrix[2,2]+matrix[3,3]+matrix[4,4])/\n",
        "           (matrix[0,0]+matrix[0,1]+matrix[0,2]+matrix[0,3]+matrix[0,4]+matrix[1,0]\n",
        "            +matrix[1,1]+matrix[1,2]+matrix[1,3]+matrix[1,4]+matrix[2,0]+matrix[2,1]\n",
        "            +matrix[2,2]+matrix[2,3]+matrix[2,4]+matrix[3,0]+matrix[3,1]+matrix[3,2]\n",
        "            +matrix[3,3]+matrix[3,4]+matrix[4,0]+matrix[4,1]+matrix[4,2]+matrix[4,3]\n",
        "            +matrix[4,4])*100)\n",
        "print(akurasi)"
      ],
      "id": "1f3bbb16"
    },
    {
      "cell_type": "markdown",
      "metadata": {
        "id": "cb971514"
      },
      "source": [
        "# Predict"
      ],
      "id": "cb971514"
    },
    {
      "cell_type": "code",
      "execution_count": null,
      "metadata": {
        "colab": {
          "base_uri": "https://localhost:8080/"
        },
        "id": "4b6faea7",
        "outputId": "c882ec97-e54b-4e10-b805-6523020cdc55"
      },
      "outputs": [
        {
          "name": "stdout",
          "output_type": "stream",
          "text": [
            "['normal']\n"
          ]
        }
      ],
      "source": [
        "normalpredict = pd.read_csv(\"drive/MyDrive/Mecnit/predict normal2.csv\")\n",
        "KNN = KNeighborsClassifier()\n",
        "\n",
        "# Extract out the x values and y values. x will be sepal_length and y will be classes\n",
        "x = df[['t1','t2','t3','t4','t5','t6','t7','t8','t9','t10','t11','t12','t13',\n",
        "        't14','t15','t16','t17','t18','t19','t20','t21','t22','t23','t24','t25',\n",
        "        't26','t27','t28','t29','t30','t31','t32','t33','t34','t35','t36','t37',\n",
        "        't38','t39','t40','t41','t42','t43','t44','t45','t46','t47','t48','t49',\n",
        "        't50','t51','t52','t53','t54','t55','t56','t57','t58','t59','t60','t61',\n",
        "        't62','t63','t64','t65','t66','t67','t68','t69','t70','t71','t72','t73',\n",
        "        't74','t75','t76','t77','t78','t79','t80','t81','t82','t83','t84','t85',\n",
        "        't86','t87','t88','t89','t90','t91','t92','t93','t94','t95','t96','t97',\n",
        "        't98','t99','t100','t101','t102','t103','t104','t105','t106','t107','t108',\n",
        "        't109','t110','t111','t112','t113','t114','t115','t116','t117','t118','t119',\n",
        "        't120','t121','t122','t123','t124','t125','t126','t127','t128','t129','t130',\n",
        "        't131','t132','t133','t134','t135','t136','t137','t138','t139','t140','t141',\n",
        "        't142','t143','t144','t145','t146','t147','t148','t149','t150','t151','t152',\n",
        "        't153','t154','t155','t156','t157','t158','t159','t160','t161','t162','t163',\n",
        "        't164','t165','t166','t167','t168','t169','t170','t171','t172','t173','t174',\n",
        "        't175','t176','t177','t178','t179','t180','t181','t182','t183','t184','t185','t186','t187'\n",
        "]]\n",
        "y = df['class']\n",
        "\n",
        "knn = KNN.fit(x,y)\n",
        "\n",
        "test = normalpredict\n",
        "predictEKG = KNN.predict(test)\n",
        "\n",
        "print(predictEKG)"
      ],
      "id": "4b6faea7"
    },
    {
      "cell_type": "code",
      "execution_count": null,
      "metadata": {
        "colab": {
          "base_uri": "https://localhost:8080/"
        },
        "id": "0dd408a2",
        "outputId": "a1a13189-5305-456d-ea7c-831bb3697d35"
      },
      "outputs": [
        {
          "name": "stdout",
          "output_type": "stream",
          "text": [
            "['supraventicular ectopic']\n"
          ]
        }
      ],
      "source": [
        "SEpredict = pd.read_csv(\"drive/MyDrive/Mecnit/predict supraventricular ectopic2.csv\")\n",
        "\n",
        "KNN = KNeighborsClassifier()\n",
        "\n",
        "# Extract out the x values and y values. x will be sepal_length and y will be classes\n",
        "x2 = df[['t1','t2','t3','t4','t5','t6','t7','t8','t9','t10','t11','t12','t13','t14',\n",
        "         't15','t16','t17','t18','t19','t20','t21','t22','t23','t24','t25','t26','t27',\n",
        "         't28','t29','t30','t31','t32','t33','t34','t35','t36','t37','t38','t39','t40',\n",
        "         't41','t42','t43','t44','t45','t46','t47','t48','t49','t50','t51','t52','t53',\n",
        "         't54','t55','t56','t57','t58','t59','t60','t61','t62','t63','t64','t65','t66',\n",
        "         't67','t68','t69','t70','t71','t72','t73','t74','t75','t76','t77','t78','t79',\n",
        "         't80','t81','t82','t83','t84','t85','t86','t87','t88','t89','t90','t91','t92',\n",
        "         't93','t94','t95','t96','t97','t98','t99','t100','t101','t102','t103','t104',\n",
        "         't105','t106','t107','t108','t109','t110','t111','t112','t113','t114','t115',\n",
        "         't116','t117','t118','t119','t120','t121','t122','t123','t124','t125','t126',\n",
        "         't127','t128','t129','t130','t131','t132','t133','t134','t135','t136','t137',\n",
        "         't138','t139','t140','t141','t142','t143','t144','t145','t146','t147','t148',\n",
        "         't149','t150','t151','t152','t153','t154','t155','t156','t157','t158','t159',\n",
        "         't160','t161','t162','t163','t164','t165','t166','t167','t168','t169','t170',\n",
        "         't171','t172','t173','t174','t175','t176','t177','t178','t179','t180','t181',\n",
        "         't182','t183','t184','t185','t186','t187'\n",
        "]]\n",
        "y2 = df['class']\n",
        "\n",
        "# Train KNN using the x and y values. This is done through the .fit method.\n",
        "knn = KNN.fit(x2,y2)\n",
        "\n",
        "test = SEpredict\n",
        "predictEKG = KNN.predict(test)\n",
        "\n",
        "print(predictEKG)\n"
      ],
      "id": "0dd408a2"
    },
    {
      "cell_type": "code",
      "execution_count": null,
      "metadata": {
        "colab": {
          "base_uri": "https://localhost:8080/"
        },
        "id": "fc4dde87",
        "outputId": "5fc41e9a-047b-4637-84fa-5d061a083180"
      },
      "outputs": [
        {
          "name": "stdout",
          "output_type": "stream",
          "text": [
            "['fusion']\n"
          ]
        }
      ],
      "source": [
        "VEpredict = pd.read_csv(\"drive/MyDrive/Mecnit/predict ventricular ectopic2.csv\")\n",
        "\n",
        "KNN = KNeighborsClassifier()\n",
        "\n",
        "# Extract out the x values and y values. x will be sepal_length and y will be classes\n",
        "x3 = df[['t1','t2','t3','t4','t5','t6','t7','t8','t9','t10','t11','t12','t13','t14',\n",
        "        't15','t16','t17','t18','t19','t20','t21','t22','t23','t24','t25','t26','t27',\n",
        "        't28','t29','t30','t31','t32','t33','t34','t35','t36','t37','t38','t39','t40',\n",
        "        't41','t42','t43','t44','t45','t46','t47','t48','t49','t50','t51','t52','t53',\n",
        "        't54','t55','t56','t57','t58','t59','t60','t61','t62','t63','t64','t65','t66',\n",
        "        't67','t68','t69','t70','t71','t72','t73','t74','t75','t76','t77','t78','t79',\n",
        "        't80','t81','t82','t83','t84','t85','t86','t87','t88','t89','t90','t91','t92',\n",
        "        't93','t94','t95','t96','t97','t98','t99','t100','t101','t102','t103','t104',\n",
        "        't105','t106','t107','t108','t109','t110','t111','t112','t113','t114','t115',\n",
        "        't116','t117','t118','t119','t120','t121','t122','t123','t124','t125','t126',\n",
        "        't127','t128','t129','t130','t131','t132','t133','t134','t135','t136','t137',\n",
        "        't138','t139','t140','t141','t142','t143','t144','t145','t146','t147','t148',\n",
        "        't149','t150','t151','t152','t153','t154','t155','t156','t157','t158','t159',\n",
        "        't160','t161','t162','t163','t164','t165','t166','t167','t168','t169','t170',\n",
        "        't171','t172','t173','t174','t175','t176','t177','t178','t179','t180','t181',\n",
        "        't182','t183','t184','t185','t186','t187'\n",
        "]]\n",
        "y3 = df['class']\n",
        "\n",
        "# Train KNN using the x and y values. This is done through the .fit method.\n",
        "knn = KNN.fit(x3,y3)\n",
        "\n",
        "test = VEpredict\n",
        "predictEKG = KNN.predict(test)\n",
        "\n",
        "print(predictEKG)"
      ],
      "id": "fc4dde87"
    },
    {
      "cell_type": "code",
      "execution_count": null,
      "metadata": {
        "colab": {
          "base_uri": "https://localhost:8080/"
        },
        "id": "f8c0d094",
        "outputId": "d9e7c770-36a0-42ff-e78d-fe9e21884a23"
      },
      "outputs": [
        {
          "name": "stdout",
          "output_type": "stream",
          "text": [
            "['fusion']\n"
          ]
        }
      ],
      "source": [
        "fusionpredict = pd.read_csv(\"drive/MyDrive/Mecnit/predict fusion2.csv\")\n",
        "\n",
        "KNN = KNeighborsClassifier()\n",
        "\n",
        "# Extract out the x values and y values. x will be sepal_length and y will be classes\n",
        "x = df[['t1','t2','t3','t4','t5','t6','t7','t8','t9','t10','t11','t12','t13','t14',\n",
        "        't15','t16','t17','t18','t19','t20','t21','t22','t23','t24','t25','t26','t27',\n",
        "        't28','t29','t30','t31','t32','t33','t34','t35','t36','t37','t38','t39','t40',\n",
        "        't41','t42','t43','t44','t45','t46','t47','t48','t49','t50','t51','t52','t53',\n",
        "        't54','t55','t56','t57','t58','t59','t60','t61','t62','t63','t64','t65','t66',\n",
        "        't67','t68','t69','t70','t71','t72','t73','t74','t75','t76','t77','t78','t79',\n",
        "        't80','t81','t82','t83','t84','t85','t86','t87','t88','t89','t90','t91','t92',\n",
        "        't93','t94','t95','t96','t97','t98','t99','t100','t101','t102','t103','t104',\n",
        "        't105','t106','t107','t108','t109','t110','t111','t112','t113','t114','t115',\n",
        "        't116','t117','t118','t119','t120','t121','t122','t123','t124','t125','t126',\n",
        "        't127','t128','t129','t130','t131','t132','t133','t134','t135','t136','t137',\n",
        "        't138','t139','t140','t141','t142','t143','t144','t145','t146','t147','t148',\n",
        "        't149','t150','t151','t152','t153','t154','t155','t156','t157','t158','t159',\n",
        "        't160','t161','t162','t163','t164','t165','t166','t167','t168','t169','t170',\n",
        "        't171','t172','t173','t174','t175','t176','t177','t178','t179','t180','t181',\n",
        "        't182','t183','t184','t185','t186','t187'\n",
        "]]\n",
        "y = df['class']\n",
        "\n",
        "\n",
        "knn = KNN.fit(x,y)\n",
        "\n",
        "test = fusionpredict\n",
        "predictEKG = KNN.predict(test)\n",
        "\n",
        "print(predictEKG)"
      ],
      "id": "f8c0d094"
    },
    {
      "cell_type": "markdown",
      "metadata": {
        "id": "722215f5"
      },
      "source": [
        "# Train and test (Decision tree)"
      ],
      "id": "722215f5"
    },
    {
      "cell_type": "code",
      "execution_count": null,
      "metadata": {
        "colab": {
          "base_uri": "https://localhost:8080/"
        },
        "id": "b7289a7b",
        "outputId": "309b82fd-f3ed-4139-e79b-6e98db1efa7d"
      },
      "outputs": [
        {
          "data": {
            "text/plain": [
              "DecisionTreeClassifier(max_depth=15, min_samples_split=7)"
            ]
          },
          "execution_count": 22,
          "metadata": {},
          "output_type": "execute_result"
        }
      ],
      "source": [
        "from sklearn import tree\n",
        "\n",
        "dt = tree.DecisionTreeClassifier(max_depth = 15, min_samples_split = 7)\n",
        "dt.fit(x_train_scale,y_train)"
      ],
      "id": "b7289a7b"
    },
    {
      "cell_type": "code",
      "execution_count": null,
      "metadata": {
        "id": "ca634e70"
      },
      "outputs": [],
      "source": [
        "y_predict = dt.predict(x_test_scale)"
      ],
      "id": "ca634e70"
    },
    {
      "cell_type": "code",
      "execution_count": null,
      "metadata": {
        "id": "tTScfWsdBvqi"
      },
      "outputs": [],
      "source": [
        "x_train, x_test, y_train, y_testDT = train_test_split(x_values,y_values,test_size=0.3,random_state=10)\n",
        "scaler = StandardScaler()\n",
        "x_train_scale = scaler.fit_transform(x_train)\n",
        "x_test_scale = scaler.transform(x_test)"
      ],
      "id": "tTScfWsdBvqi"
    },
    {
      "cell_type": "markdown",
      "metadata": {
        "id": "31d0848e"
      },
      "source": [
        "# Confusion Matrix (Decision Tree)"
      ],
      "id": "31d0848e"
    },
    {
      "cell_type": "code",
      "execution_count": null,
      "metadata": {
        "colab": {
          "base_uri": "https://localhost:8080/"
        },
        "id": "44b2368a",
        "outputId": "aa1567e0-13bb-4cef-da84-3309f214db1f"
      },
      "outputs": [
        {
          "name": "stdout",
          "output_type": "stream",
          "text": [
            "[[   90    77     0     0    20]\n",
            " [   16 21551    55    42   124]\n",
            " [    1   264   376     5    10]\n",
            " [    1   138     4  1729    20]\n",
            " [   23   282     9    17  1413]]\n",
            "25159\n",
            "26267\n",
            "95.7817794190429\n"
          ]
        }
      ],
      "source": [
        "matrix2 = (confusion_matrix(y_testDT, y_predict))  \n",
        "print(matrix2)\n",
        "akurasi2 = ((matrix2[0,0]+matrix2[1,1]+matrix2[2,2]+matrix2[3,3]+matrix2[4,4])/\n",
        "            (matrix2[0,0]+matrix2[0,1]+matrix2[0,2]+matrix2[0,3]+matrix2[0,4]+\n",
        "             matrix2[1,0]+matrix2[1,1]+matrix2[1,2]+matrix2[1,3]+matrix2[1,4]+\n",
        "             matrix2[2,0]+matrix2[2,1]+matrix2[2,2]+matrix2[2,3]+matrix2[2,4]+\n",
        "             matrix2[3,0]+matrix2[3,1]+matrix2[3,2]+matrix2[3,3]+matrix2[3,4]+\n",
        "             matrix2[4,0]+matrix2[4,1]+matrix2[4,2]+matrix2[4,3]+matrix2[4,4])*100)\n",
        "benar2 = (matrix2[0,0]+matrix2[1,1]+matrix2[2,2]+matrix2[3,3]+matrix2[4,4])\n",
        "Total2 = (matrix2[0,0]+matrix2[0,1]+matrix2[0,2]+matrix2[0,3]+matrix2[0,4]+\n",
        "          matrix2[1,0]+matrix2[1,1]+matrix2[1,2]+matrix2[1,3]+matrix2[1,4]+\n",
        "          matrix2[2,0]+matrix2[2,1]+matrix2[2,2]+matrix2[2,3]+matrix2[2,4]+\n",
        "          matrix2[3,0]+matrix2[3,1]+matrix2[3,2]+matrix2[3,3]+matrix2[3,4]+\n",
        "          matrix2[4,0]+matrix2[4,1]+matrix2[4,2]+matrix2[4,3]+matrix2[4,4])\n",
        "print(benar2)\n",
        "print(Total2)\n",
        "\n",
        "\n",
        "print(akurasi2)"
      ],
      "id": "44b2368a"
    },
    {
      "cell_type": "markdown",
      "metadata": {
        "id": "2dKS_Y6IQL-e"
      },
      "source": [
        "Akurasi"
      ],
      "id": "2dKS_Y6IQL-e"
    },
    {
      "cell_type": "code",
      "execution_count": null,
      "metadata": {
        "colab": {
          "base_uri": "https://localhost:8080/"
        },
        "id": "OqXS3Al0OwOP",
        "outputId": "d34cb9f7-41b4-40ae-8b63-a1a9f3bccee6"
      },
      "outputs": [
        {
          "name": "stdout",
          "output_type": "stream",
          "text": [
            "95.7817794190429\n"
          ]
        }
      ],
      "source": [
        "akurasi2 = ((matrix2[0,0]+matrix2[1,1]+matrix2[2,2]+matrix2[3,3]+matrix2[4,4])/(matrix2[0,0]+matrix2[0,1]+matrix2[0,2]+matrix2[0,3]+matrix2[0,4]+matrix2[1,0]+matrix2[1,1]+matrix2[1,2]+matrix2[1,3]+matrix2[1,4]+matrix2[2,0]+matrix2[2,1]+matrix2[2,2]+matrix2[2,3]+matrix2[2,4]+matrix2[3,0]+matrix2[3,1]+matrix2[3,2]+matrix2[3,3]+matrix2[3,4]+matrix2[4,0]+matrix2[4,1]+matrix2[4,2]+matrix2[4,3]+matrix2[4,4])*100)\n",
        "print(akurasi2)"
      ],
      "id": "OqXS3Al0OwOP"
    },
    {
      "cell_type": "markdown",
      "metadata": {
        "id": "4d9249a1"
      },
      "source": [
        "# predict"
      ],
      "id": "4d9249a1"
    },
    {
      "cell_type": "code",
      "execution_count": null,
      "metadata": {
        "colab": {
          "base_uri": "https://localhost:8080/"
        },
        "id": "40c22471",
        "outputId": "ff3768af-7e1c-4684-ce6c-de1c5fcadef5"
      },
      "outputs": [
        {
          "name": "stdout",
          "output_type": "stream",
          "text": [
            "['normal']\n"
          ]
        }
      ],
      "source": [
        "normalpredict = pd.read_csv(\"drive/MyDrive/Mecnit/predict normal2.csv\")\n",
        "\n",
        "KNN = KNeighborsClassifier()\n",
        "\n",
        "# Extract out the x values and y values. x will be sepal_length and y will be classes\n",
        "x = df[['t1','t2','t3','t4','t5','t6','t7','t8','t9','t10','t11','t12','t13','t14',\n",
        "        't15','t16','t17','t18','t19','t20','t21','t22','t23','t24','t25','t26','t27',\n",
        "        't28','t29','t30','t31','t32','t33','t34','t35','t36','t37','t38','t39','t40',\n",
        "        't41','t42','t43','t44','t45','t46','t47','t48','t49','t50','t51','t52','t53',\n",
        "        't54','t55','t56','t57','t58','t59','t60','t61','t62','t63','t64','t65','t66',\n",
        "        't67','t68','t69','t70','t71','t72','t73','t74','t75','t76','t77','t78','t79',\n",
        "        't80','t81','t82','t83','t84','t85','t86','t87','t88','t89','t90','t91','t92',\n",
        "        't93','t94','t95','t96','t97','t98','t99','t100','t101','t102','t103','t104',\n",
        "        't105','t106','t107','t108','t109','t110','t111','t112','t113','t114','t115',\n",
        "        't116','t117','t118','t119','t120','t121','t122','t123','t124','t125','t126',\n",
        "        't127','t128','t129','t130','t131','t132','t133','t134','t135','t136','t137',\n",
        "        't138','t139','t140','t141','t142','t143','t144','t145','t146','t147','t148',\n",
        "        't149','t150','t151','t152','t153','t154','t155','t156','t157','t158','t159',\n",
        "        't160','t161','t162','t163','t164','t165','t166','t167','t168','t169','t170',\n",
        "        't171','t172','t173','t174','t175','t176','t177','t178','t179','t180','t181',\n",
        "        't182','t183','t184','t185','t186','t187'\n",
        "]]\n",
        "y = df['class']\n",
        "\n",
        "DT = dt.fit(x,y)\n",
        "\n",
        "normaltest = normalpredict\n",
        "predictEKG = DT.predict(normaltest)\n",
        "\n",
        "print(predictEKG)"
      ],
      "id": "40c22471"
    },
    {
      "cell_type": "code",
      "execution_count": null,
      "metadata": {
        "colab": {
          "base_uri": "https://localhost:8080/"
        },
        "id": "4c839626",
        "outputId": "a9b1bb8f-c2a6-421d-c501-d6dfd09e18c9"
      },
      "outputs": [
        {
          "name": "stdout",
          "output_type": "stream",
          "text": [
            "['supraventicular ectopic']\n"
          ]
        }
      ],
      "source": [
        "SEpredict = pd.read_csv(\"drive/MyDrive/Mecnit/predict supraventricular ectopic2.csv\")\n",
        "\n",
        "KNN = KNeighborsClassifier()\n",
        "\n",
        "# Extract out the x values and y values. x will be sepal_length and y will be classes\n",
        "x1 = df[['t1','t2','t3','t4','t5','t6','t7','t8','t9','t10','t11','t12','t13','t14',\n",
        "        't15','t16','t17','t18','t19','t20','t21','t22','t23','t24','t25','t26','t27',\n",
        "        't28','t29','t30','t31','t32','t33','t34','t35','t36','t37','t38','t39','t40',\n",
        "        't41','t42','t43','t44','t45','t46','t47','t48','t49','t50','t51','t52','t53',\n",
        "        't54','t55','t56','t57','t58','t59','t60','t61','t62','t63','t64','t65','t66',\n",
        "        't67','t68','t69','t70','t71','t72','t73','t74','t75','t76','t77','t78','t79',\n",
        "        't80','t81','t82','t83','t84','t85','t86','t87','t88','t89','t90','t91','t92',\n",
        "        't93','t94','t95','t96','t97','t98','t99','t100','t101','t102','t103','t104',\n",
        "        't105','t106','t107','t108','t109','t110','t111','t112','t113','t114','t115',\n",
        "        't116','t117','t118','t119','t120','t121','t122','t123','t124','t125','t126',\n",
        "        't127','t128','t129','t130','t131','t132','t133','t134','t135','t136','t137',\n",
        "        't138','t139','t140','t141','t142','t143','t144','t145','t146','t147','t148',\n",
        "        't149','t150','t151','t152','t153','t154','t155','t156','t157','t158','t159',\n",
        "        't160','t161','t162','t163','t164','t165','t166','t167','t168','t169','t170',\n",
        "        't171','t172','t173','t174','t175','t176','t177','t178','t179','t180','t181',\n",
        "        't182','t183','t184','t185','t186','t187'\n",
        "]]\n",
        "y1 = df['class']\n",
        "\n",
        "# Train KNN using the x and y values. This is done through the .fit method.\n",
        "DT = dt.fit(x1,y1)\n",
        "\n",
        "SEtest = SEpredict\n",
        "predictEKG = DT.predict(SEtest)\n",
        "\n",
        "print(predictEKG)"
      ],
      "id": "4c839626"
    },
    {
      "cell_type": "code",
      "execution_count": null,
      "metadata": {
        "colab": {
          "base_uri": "https://localhost:8080/"
        },
        "id": "e0622ec4",
        "outputId": "43b99d37-4247-45b9-e6ef-cd798e635437"
      },
      "outputs": [
        {
          "name": "stdout",
          "output_type": "stream",
          "text": [
            "['normal']\n"
          ]
        }
      ],
      "source": [
        "VEpredict = pd.read_csv(\"drive/MyDrive/Mecnit/predict ventricular ectopic2.csv\")\n",
        "\n",
        "KNN = KNeighborsClassifier()\n",
        "\n",
        "# Extract out the x values and y values. x will be sepal_length and y will be classes\n",
        "x2 = df[['t1','t2','t3','t4','t5','t6','t7','t8','t9','t10','t11','t12','t13','t14',\n",
        "        't15','t16','t17','t18','t19','t20','t21','t22','t23','t24','t25','t26','t27',\n",
        "        't28','t29','t30','t31','t32','t33','t34','t35','t36','t37','t38','t39','t40',\n",
        "        't41','t42','t43','t44','t45','t46','t47','t48','t49','t50','t51','t52','t53',\n",
        "        't54','t55','t56','t57','t58','t59','t60','t61','t62','t63','t64','t65','t66',\n",
        "        't67','t68','t69','t70','t71','t72','t73','t74','t75','t76','t77','t78','t79',\n",
        "        't80','t81','t82','t83','t84','t85','t86','t87','t88','t89','t90','t91','t92',\n",
        "        't93','t94','t95','t96','t97','t98','t99','t100','t101','t102','t103','t104',\n",
        "        't105','t106','t107','t108','t109','t110','t111','t112','t113','t114','t115',\n",
        "        't116','t117','t118','t119','t120','t121','t122','t123','t124','t125','t126',\n",
        "        't127','t128','t129','t130','t131','t132','t133','t134','t135','t136','t137',\n",
        "        't138','t139','t140','t141','t142','t143','t144','t145','t146','t147','t148',\n",
        "        't149','t150','t151','t152','t153','t154','t155','t156','t157','t158','t159',\n",
        "        't160','t161','t162','t163','t164','t165','t166','t167','t168','t169','t170',\n",
        "        't171','t172','t173','t174','t175','t176','t177','t178','t179','t180','t181',\n",
        "        't182','t183','t184','t185','t186','t187'\n",
        "]]\n",
        "y2 = df['class']\n",
        "\n",
        "# Train KNN using the x and y values. This is done through the .fit method.\n",
        "DT = dt.fit(x2,y2)\n",
        "\n",
        "VEtest = VEpredict\n",
        "predictEKG = DT.predict(VEtest)\n",
        "\n",
        "print(predictEKG)"
      ],
      "id": "e0622ec4"
    },
    {
      "cell_type": "code",
      "execution_count": null,
      "metadata": {
        "colab": {
          "base_uri": "https://localhost:8080/"
        },
        "id": "043f03b5",
        "outputId": "0b29387a-b1ba-4390-a321-b69e91afb814"
      },
      "outputs": [
        {
          "name": "stdout",
          "output_type": "stream",
          "text": [
            "['fusion']\n"
          ]
        }
      ],
      "source": [
        "fusionpredict = pd.read_csv(\"drive/MyDrive/Mecnit/predict fusion2.csv\")\n",
        "\n",
        "KNN = KNeighborsClassifier()\n",
        "\n",
        "# Extract out the x values and y values. x will be sepal_length and y will be classes\n",
        "x3 = df[['t1','t2','t3','t4','t5','t6','t7','t8','t9','t10','t11','t12','t13','t14','t15','t16','t17','t18','t19','t20','t21','t22','t23','t24','t25','t26','t27','t28','t29','t30','t31','t32','t33','t34','t35','t36','t37','t38','t39','t40','t41','t42','t43','t44','t45','t46','t47','t48','t49','t50','t51','t52','t53','t54','t55','t56','t57','t58','t59','t60','t61','t62','t63','t64','t65','t66','t67','t68','t69','t70','t71','t72','t73','t74','t75','t76','t77','t78','t79','t80','t81','t82','t83','t84','t85','t86','t87','t88','t89','t90','t91','t92','t93','t94','t95','t96','t97','t98','t99','t100','t101','t102','t103','t104','t105','t106','t107','t108','t109','t110','t111','t112','t113','t114','t115','t116','t117','t118','t119','t120','t121','t122','t123','t124','t125','t126','t127','t128','t129','t130','t131','t132','t133','t134','t135','t136','t137','t138','t139','t140','t141','t142','t143','t144','t145','t146','t147','t148','t149','t150','t151','t152','t153','t154','t155','t156','t157','t158','t159','t160','t161','t162','t163','t164','t165','t166','t167','t168','t169','t170','t171','t172','t173','t174','t175','t176','t177','t178','t179','t180','t181','t182','t183','t184','t185','t186','t187'\n",
        "]]\n",
        "y3 = df['class']\n",
        "\n",
        "# Train KNN using the x and y values. This is done through the .fit method.\n",
        "DT = dt.fit(x3,y3)\n",
        "\n",
        "fusiontest = fusionpredict\n",
        "predictEKG = DT.predict(fusiontest)\n",
        "\n",
        "print(predictEKG)"
      ],
      "id": "043f03b5"
    }
  ],
  "metadata": {
    "colab": {
      "provenance": []
    },
    "kernelspec": {
      "display_name": "Python 3",
      "language": "python",
      "name": "python3"
    },
    "language_info": {
      "codemirror_mode": {
        "name": "ipython",
        "version": 3
      },
      "file_extension": ".py",
      "mimetype": "text/x-python",
      "name": "python",
      "nbconvert_exporter": "python",
      "pygments_lexer": "ipython3",
      "version": "3.8.10"
    }
  },
  "nbformat": 4,
  "nbformat_minor": 5
}